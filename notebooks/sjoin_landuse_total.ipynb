{
 "cells": [
  {
   "cell_type": "markdown",
   "metadata": {},
   "source": [
    "# Spatial Join for Land Use and Sensor Readings"
   ]
  },
  {
   "cell_type": "code",
   "execution_count": 83,
   "metadata": {
    "collapsed": false
   },
   "outputs": [
    {
     "name": "stdout",
     "output_type": "stream",
     "text": [
      "Populating the interactive namespace from numpy and matplotlib\n",
      "2.7.11 (default, Dec  5 2015, 14:44:47) \n",
      "[GCC 4.2.1 Compatible Apple LLVM 7.0.0 (clang-700.1.76)]\n"
     ]
    },
    {
     "name": "stderr",
     "output_type": "stream",
     "text": [
      "WARNING: pylab import has clobbered these variables: ['poly']\n",
      "`%matplotlib` prevents importing * from pylab and numpy\n"
     ]
    }
   ],
   "source": [
    "import pandas as pd\n",
    "import numpy as np\n",
    "import geopandas as gp\n",
    "import sys\n",
    "import matplotlib.pyplot as plt\n",
    "%pylab inline\n",
    "print sys.version"
   ]
  },
  {
   "cell_type": "code",
   "execution_count": 84,
   "metadata": {
    "collapsed": false
   },
   "outputs": [
    {
     "name": "stdout",
     "output_type": "stream",
     "text": [
      "ERROR! Session/line number was not unique in database. History logging moved to new session 349\n"
     ]
    }
   ],
   "source": [
    "# read in census block data and 2005 land use data\n",
    "# first, polygons\n",
    "blocks = gp.read_file('land_data/Census 2010 Blocks/GISDATA_CENSUS2010BLOCKS_POLY.shp')\n",
    "LU2005 = gp.read_file('land_data/Land Use 2005/GISDATA_LANDUSE2005_POLY.shp')\n",
    "landuse=gp.read_file('landuse/GISDATA_LANDUSE_POLY.shp')\n",
    "# then, points\n",
    "df = pd.read_csv('nUrve_master.csv')"
   ]
  },
  {
   "cell_type": "code",
   "execution_count": 85,
   "metadata": {
    "collapsed": false
   },
   "outputs": [],
   "source": [
    "# import necessary modules for the spatial join\n",
    "import os\n",
    "from shapely.geometry import Point\n",
    "from geopandas import GeoDataFrame, read_file\n",
    "from geopandas.tools import overlay\n",
    "from geopandas.tools import sjoin"
   ]
  },
  {
   "cell_type": "code",
   "execution_count": 86,
   "metadata": {
    "collapsed": true
   },
   "outputs": [],
   "source": [
    "# spatial joins take a while with so many points\n",
    "def shapeMerge(points, polygons):\n",
    "    points['geometry'] = points.apply(lambda x: Point(x.GPS_LON, x.GPS_LAT), axis =1)\n",
    "    points = GeoDataFrame(points,crs = {'init': 'epsg:4326'})\n",
    "    polygons = GeoDataFrame(polygons,crs = {'init': 'epsg:4326'})\n",
    "    #polygons.crs = points.crs\n",
    "    s_join = sjoin(points, polygons, how='left', op='within')\n",
    "    return s_join"
   ]
  },
  {
   "cell_type": "code",
   "execution_count": 87,
   "metadata": {
    "collapsed": false
   },
   "outputs": [
    {
     "data": {
      "text/html": [
       "<div>\n",
       "<table border=\"1\" class=\"dataframe\">\n",
       "  <thead>\n",
       "    <tr style=\"text-align: right;\">\n",
       "      <th></th>\n",
       "      <th>ID</th>\n",
       "      <th>GPS_DATETIMESTAMP</th>\n",
       "      <th>GPS_LAT</th>\n",
       "      <th>GPS_LON</th>\n",
       "      <th>GPS_Speed</th>\n",
       "      <th>GPS_Alt</th>\n",
       "      <th>GPS_Sats</th>\n",
       "      <th>GPS_Fix</th>\n",
       "      <th>GPS_Quality</th>\n",
       "      <th>AMB_Temp</th>\n",
       "      <th>...</th>\n",
       "      <th>RDQ_AcYMea</th>\n",
       "      <th>RDQ_AcZ</th>\n",
       "      <th>RDQ_AcZMin</th>\n",
       "      <th>RDQ_AcZMax</th>\n",
       "      <th>RDQ_AcZMea</th>\n",
       "      <th>SamplingCount</th>\n",
       "      <th>geometry</th>\n",
       "      <th>index_right</th>\n",
       "      <th>LU05_DESC</th>\n",
       "      <th>LUCODE</th>\n",
       "    </tr>\n",
       "  </thead>\n",
       "  <tbody>\n",
       "    <tr>\n",
       "      <th>0</th>\n",
       "      <td>132</td>\n",
       "      <td>2015-10-26 2:48:45.0</td>\n",
       "      <td>42.34143</td>\n",
       "      <td>-71.080329</td>\n",
       "      <td>0.47</td>\n",
       "      <td>183.7</td>\n",
       "      <td>4</td>\n",
       "      <td>1</td>\n",
       "      <td>1</td>\n",
       "      <td>21.23</td>\n",
       "      <td>...</td>\n",
       "      <td>0.5672</td>\n",
       "      <td>9.1006</td>\n",
       "      <td>7.9238</td>\n",
       "      <td>9.2183</td>\n",
       "      <td>8.6780</td>\n",
       "      <td>255</td>\n",
       "      <td>POINT (-71.08032900000001 42.34143)</td>\n",
       "      <td>4393</td>\n",
       "      <td>Commercial</td>\n",
       "      <td>15</td>\n",
       "    </tr>\n",
       "    <tr>\n",
       "      <th>1</th>\n",
       "      <td>134</td>\n",
       "      <td>2015-10-26 2:48:45.0</td>\n",
       "      <td>42.34143</td>\n",
       "      <td>-71.080329</td>\n",
       "      <td>0.47</td>\n",
       "      <td>183.7</td>\n",
       "      <td>4</td>\n",
       "      <td>1</td>\n",
       "      <td>1</td>\n",
       "      <td>21.23</td>\n",
       "      <td>...</td>\n",
       "      <td>0.5544</td>\n",
       "      <td>9.1790</td>\n",
       "      <td>8.2376</td>\n",
       "      <td>9.3359</td>\n",
       "      <td>8.7051</td>\n",
       "      <td>254</td>\n",
       "      <td>POINT (-71.08032900000001 42.34143)</td>\n",
       "      <td>4393</td>\n",
       "      <td>Commercial</td>\n",
       "      <td>15</td>\n",
       "    </tr>\n",
       "    <tr>\n",
       "      <th>2</th>\n",
       "      <td>136</td>\n",
       "      <td>2015-10-26 2:48:45.0</td>\n",
       "      <td>42.34143</td>\n",
       "      <td>-71.080329</td>\n",
       "      <td>0.47</td>\n",
       "      <td>183.7</td>\n",
       "      <td>4</td>\n",
       "      <td>1</td>\n",
       "      <td>1</td>\n",
       "      <td>21.24</td>\n",
       "      <td>...</td>\n",
       "      <td>0.5233</td>\n",
       "      <td>8.3945</td>\n",
       "      <td>8.1199</td>\n",
       "      <td>9.1790</td>\n",
       "      <td>8.6665</td>\n",
       "      <td>255</td>\n",
       "      <td>POINT (-71.08032900000001 42.34143)</td>\n",
       "      <td>4393</td>\n",
       "      <td>Commercial</td>\n",
       "      <td>15</td>\n",
       "    </tr>\n",
       "    <tr>\n",
       "      <th>3</th>\n",
       "      <td>138</td>\n",
       "      <td>2015-10-26 2:48:45.0</td>\n",
       "      <td>42.34143</td>\n",
       "      <td>-71.080329</td>\n",
       "      <td>0.47</td>\n",
       "      <td>183.7</td>\n",
       "      <td>4</td>\n",
       "      <td>1</td>\n",
       "      <td>1</td>\n",
       "      <td>21.23</td>\n",
       "      <td>...</td>\n",
       "      <td>0.5401</td>\n",
       "      <td>8.5514</td>\n",
       "      <td>8.1591</td>\n",
       "      <td>9.1006</td>\n",
       "      <td>8.6938</td>\n",
       "      <td>254</td>\n",
       "      <td>POINT (-71.08032900000001 42.34143)</td>\n",
       "      <td>4393</td>\n",
       "      <td>Commercial</td>\n",
       "      <td>15</td>\n",
       "    </tr>\n",
       "    <tr>\n",
       "      <th>4</th>\n",
       "      <td>140</td>\n",
       "      <td>2015-10-26 2:48:45.0</td>\n",
       "      <td>42.34143</td>\n",
       "      <td>-71.080329</td>\n",
       "      <td>0.47</td>\n",
       "      <td>183.7</td>\n",
       "      <td>4</td>\n",
       "      <td>1</td>\n",
       "      <td>1</td>\n",
       "      <td>21.23</td>\n",
       "      <td>...</td>\n",
       "      <td>0.5836</td>\n",
       "      <td>8.6299</td>\n",
       "      <td>8.0022</td>\n",
       "      <td>9.5321</td>\n",
       "      <td>8.6882</td>\n",
       "      <td>255</td>\n",
       "      <td>POINT (-71.08032900000001 42.34143)</td>\n",
       "      <td>4393</td>\n",
       "      <td>Commercial</td>\n",
       "      <td>15</td>\n",
       "    </tr>\n",
       "  </tbody>\n",
       "</table>\n",
       "<p>5 rows × 33 columns</p>\n",
       "</div>"
      ],
      "text/plain": [
       "    ID     GPS_DATETIMESTAMP   GPS_LAT    GPS_LON  GPS_Speed  GPS_Alt  \\\n",
       "0  132  2015-10-26 2:48:45.0  42.34143 -71.080329       0.47    183.7   \n",
       "1  134  2015-10-26 2:48:45.0  42.34143 -71.080329       0.47    183.7   \n",
       "2  136  2015-10-26 2:48:45.0  42.34143 -71.080329       0.47    183.7   \n",
       "3  138  2015-10-26 2:48:45.0  42.34143 -71.080329       0.47    183.7   \n",
       "4  140  2015-10-26 2:48:45.0  42.34143 -71.080329       0.47    183.7   \n",
       "\n",
       "   GPS_Sats  GPS_Fix  GPS_Quality  AMB_Temp   ...    RDQ_AcYMea  RDQ_AcZ  \\\n",
       "0         4        1            1     21.23   ...        0.5672   9.1006   \n",
       "1         4        1            1     21.23   ...        0.5544   9.1790   \n",
       "2         4        1            1     21.24   ...        0.5233   8.3945   \n",
       "3         4        1            1     21.23   ...        0.5401   8.5514   \n",
       "4         4        1            1     21.23   ...        0.5836   8.6299   \n",
       "\n",
       "   RDQ_AcZMin RDQ_AcZMax  RDQ_AcZMea  SamplingCount  \\\n",
       "0      7.9238     9.2183      8.6780            255   \n",
       "1      8.2376     9.3359      8.7051            254   \n",
       "2      8.1199     9.1790      8.6665            255   \n",
       "3      8.1591     9.1006      8.6938            254   \n",
       "4      8.0022     9.5321      8.6882            255   \n",
       "\n",
       "                              geometry  index_right   LU05_DESC  LUCODE  \n",
       "0  POINT (-71.08032900000001 42.34143)         4393  Commercial      15  \n",
       "1  POINT (-71.08032900000001 42.34143)         4393  Commercial      15  \n",
       "2  POINT (-71.08032900000001 42.34143)         4393  Commercial      15  \n",
       "3  POINT (-71.08032900000001 42.34143)         4393  Commercial      15  \n",
       "4  POINT (-71.08032900000001 42.34143)         4393  Commercial      15  \n",
       "\n",
       "[5 rows x 33 columns]"
      ]
     },
     "execution_count": 87,
     "metadata": {},
     "output_type": "execute_result"
    }
   ],
   "source": [
    "# merge points with 2005 land use\n",
    "joined = shapeMerge(df, LU2005)\n",
    "joined.head()"
   ]
  },
  {
   "cell_type": "code",
   "execution_count": 88,
   "metadata": {
    "collapsed": false
   },
   "outputs": [
    {
     "data": {
      "text/plain": [
       "Index([               u'ID', u'GPS_DATETIMESTAMP',           u'GPS_LAT',\n",
       "                 u'GPS_LON',         u'GPS_Speed',           u'GPS_Alt',\n",
       "                u'GPS_Sats',           u'GPS_Fix',       u'GPS_Quality',\n",
       "                u'AMB_Temp',          u'AMB_Humd',           u'AMB_Lux',\n",
       "                 u'AMB_Snd',        u'AMB_SndMin',        u'AMB_SndMax',\n",
       "              u'AMB_SndMea',           u'RDQ_AcX',        u'RDQ_AcXMin',\n",
       "              u'RDQ_AcXMax',        u'RDQ_AcXMea',           u'RDQ_AcY',\n",
       "              u'RDQ_AcYMin',        u'RDQ_AcYMax',        u'RDQ_AcYMea',\n",
       "                 u'RDQ_AcZ',        u'RDQ_AcZMin',        u'RDQ_AcZMax',\n",
       "              u'RDQ_AcZMea',     u'SamplingCount',          u'geometry',\n",
       "             u'index_right',         u'LU05_DESC',            u'LUCODE'],\n",
       "      dtype='object')"
      ]
     },
     "execution_count": 88,
     "metadata": {},
     "output_type": "execute_result"
    }
   ],
   "source": [
    "joined.columns"
   ]
  },
  {
   "cell_type": "code",
   "execution_count": 97,
   "metadata": {
    "collapsed": false
   },
   "outputs": [
    {
     "name": "stdout",
     "output_type": "stream",
     "text": [
      "There are 19 different land use types in the 2005 revision.\n",
      "\n",
      "Those types are: \n",
      "[nan u'Cemetery' u'Commercial' u'Cropland' u'Forest'\n",
      " u'High Density Residential' u'Industrial' u'Medium Density Residential'\n",
      " u'Multi-Family Residential' u'Nursery' u'Open Land'\n",
      " u'Participation Recreation' u'Saltwater Sandy Beach'\n",
      " u'Spectator Recreation' u'Transitional' u'Transportation'\n",
      " u'Urban Public/Institutional' u'Very Low Density Residential' u'Water']\n"
     ]
    }
   ],
   "source": [
    "print 'There are %s different land use types in the 2005 revision.' % len(np.unique(joined.LU05_DESC))\n",
    "print ''\n",
    "print 'Those types are: \\n', np.unique(joined.LU05_DESC)"
   ]
  },
  {
   "cell_type": "code",
   "execution_count": 107,
   "metadata": {
    "collapsed": false
   },
   "outputs": [
    {
     "data": {
      "text/plain": [
       "LU05_DESC\n",
       "Cemetery                           720\n",
       "Commercial                      354340\n",
       "Cropland                            10\n",
       "Forest                               2\n",
       "High Density Residential         10377\n",
       "Industrial                       24550\n",
       "Medium Density Residential         730\n",
       "Multi-Family Residential        124374\n",
       "Nursery                            138\n",
       "Open Land                          956\n",
       "Participation Recreation          5613\n",
       "Saltwater Sandy Beach               92\n",
       "Spectator Recreation                26\n",
       "Transitional                      1529\n",
       "Transportation                   91063\n",
       "Urban Public/Institutional       53506\n",
       "Very Low Density Residential        65\n",
       "Water                                4\n",
       "dtype: int64"
      ]
     },
     "execution_count": 107,
     "metadata": {},
     "output_type": "execute_result"
    }
   ],
   "source": [
    "joined.ID.groupby(joined.LU05_DESC).agg('count')"
   ]
  },
  {
   "cell_type": "code",
   "execution_count": null,
   "metadata": {
    "collapsed": true
   },
   "outputs": [],
   "source": []
  }
 ],
 "metadata": {
  "kernelspec": {
   "display_name": "Python 2",
   "language": "python",
   "name": "python2"
  },
  "language_info": {
   "codemirror_mode": {
    "name": "ipython",
    "version": 2
   },
   "file_extension": ".py",
   "mimetype": "text/x-python",
   "name": "python",
   "nbconvert_exporter": "python",
   "pygments_lexer": "ipython2",
   "version": "2.7.11"
  }
 },
 "nbformat": 4,
 "nbformat_minor": 0
}
