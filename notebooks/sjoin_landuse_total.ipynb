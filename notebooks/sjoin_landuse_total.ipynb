{
 "cells": [
  {
   "cell_type": "markdown",
   "metadata": {},
   "source": [
    "# Spatial Join for Land Use and Sensor Readings"
   ]
  },
  {
   "cell_type": "code",
   "execution_count": 63,
   "metadata": {
    "collapsed": false
   },
   "outputs": [
    {
     "name": "stdout",
     "output_type": "stream",
     "text": [
      "Populating the interactive namespace from numpy and matplotlib\n",
      "2.7.11 (default, Dec  5 2015, 14:44:47) \n",
      "[GCC 4.2.1 Compatible Apple LLVM 7.0.0 (clang-700.1.76)]\n"
     ]
    }
   ],
   "source": [
    "import pandas as pd\n",
    "import numpy as np\n",
    "import geopandas as gp\n",
    "import sys\n",
    "import matplotlib.pyplot as plt\n",
    "%pylab inline\n",
    "print sys.version"
   ]
  },
  {
   "cell_type": "code",
   "execution_count": 64,
   "metadata": {
    "collapsed": false
   },
   "outputs": [],
   "source": [
    "# read in dataset containing all unique points\n",
    "# not sure what to do with this - can someone please clarify?\n",
    "uniloc = pd.read_csv('UniqueLocations.csv')"
   ]
  },
  {
   "cell_type": "code",
   "execution_count": 65,
   "metadata": {
    "collapsed": false
   },
   "outputs": [
    {
     "name": "stdout",
     "output_type": "stream",
     "text": [
      "   Unnamed: 0          uniqueLatLon    GPS_LAT    GPS_LON  ID\n",
      "0           0  42.223632|-71.169822  42.223632 -71.169822  24\n",
      "1           1  42.223827|-71.166122  42.223827 -71.166122  18\n",
      "2           2  42.223926|-71.167671  42.223926 -71.167671  30\n",
      "3           3  42.224193|-71.172439  42.224193 -71.172439  20\n",
      "4           4  42.225318|-71.175933  42.225318 -71.175933  44\n",
      "We have 152033 unique locations\n"
     ]
    }
   ],
   "source": [
    "print uniloc.head()\n",
    "print 'We have %d unique locations' % len(uniloc)"
   ]
  },
  {
   "cell_type": "code",
   "execution_count": 66,
   "metadata": {
    "collapsed": false
   },
   "outputs": [
    {
     "data": {
      "text/html": [
       "<div>\n",
       "<table border=\"1\" class=\"dataframe\">\n",
       "  <thead>\n",
       "    <tr style=\"text-align: right;\">\n",
       "      <th></th>\n",
       "      <th>ID</th>\n",
       "      <th>GPS_DATETIMESTAMP</th>\n",
       "      <th>GPS_LAT</th>\n",
       "      <th>GPS_LON</th>\n",
       "      <th>GPS_Speed</th>\n",
       "      <th>GPS_Alt</th>\n",
       "      <th>GPS_Sats</th>\n",
       "      <th>GPS_Fix</th>\n",
       "      <th>GPS_Quality</th>\n",
       "      <th>AMB_Temp</th>\n",
       "      <th>...</th>\n",
       "      <th>RDQ_AcXMea</th>\n",
       "      <th>RDQ_AcY</th>\n",
       "      <th>RDQ_AcYMin</th>\n",
       "      <th>RDQ_AcYMax</th>\n",
       "      <th>RDQ_AcYMea</th>\n",
       "      <th>RDQ_AcZ</th>\n",
       "      <th>RDQ_AcZMin</th>\n",
       "      <th>RDQ_AcZMax</th>\n",
       "      <th>RDQ_AcZMea</th>\n",
       "      <th>SamplingCount</th>\n",
       "    </tr>\n",
       "  </thead>\n",
       "  <tbody>\n",
       "    <tr>\n",
       "      <th>0</th>\n",
       "      <td>132</td>\n",
       "      <td>2015-10-26 2:48:45.0</td>\n",
       "      <td>42.34143</td>\n",
       "      <td>-71.080329</td>\n",
       "      <td>0.47</td>\n",
       "      <td>183.7</td>\n",
       "      <td>4</td>\n",
       "      <td>1</td>\n",
       "      <td>1</td>\n",
       "      <td>21.23</td>\n",
       "      <td>...</td>\n",
       "      <td>-2.4004</td>\n",
       "      <td>0.3530</td>\n",
       "      <td>0.1569</td>\n",
       "      <td>1.0199</td>\n",
       "      <td>0.5672</td>\n",
       "      <td>9.1006</td>\n",
       "      <td>7.9238</td>\n",
       "      <td>9.2183</td>\n",
       "      <td>8.6780</td>\n",
       "      <td>255</td>\n",
       "    </tr>\n",
       "    <tr>\n",
       "      <th>1</th>\n",
       "      <td>134</td>\n",
       "      <td>2015-10-26 2:48:45.0</td>\n",
       "      <td>42.34143</td>\n",
       "      <td>-71.080329</td>\n",
       "      <td>0.47</td>\n",
       "      <td>183.7</td>\n",
       "      <td>4</td>\n",
       "      <td>1</td>\n",
       "      <td>1</td>\n",
       "      <td>21.23</td>\n",
       "      <td>...</td>\n",
       "      <td>-2.3879</td>\n",
       "      <td>0.3138</td>\n",
       "      <td>0.1569</td>\n",
       "      <td>0.8630</td>\n",
       "      <td>0.5544</td>\n",
       "      <td>9.1790</td>\n",
       "      <td>8.2376</td>\n",
       "      <td>9.3359</td>\n",
       "      <td>8.7051</td>\n",
       "      <td>254</td>\n",
       "    </tr>\n",
       "    <tr>\n",
       "      <th>2</th>\n",
       "      <td>136</td>\n",
       "      <td>2015-10-26 2:48:45.0</td>\n",
       "      <td>42.34143</td>\n",
       "      <td>-71.080329</td>\n",
       "      <td>0.47</td>\n",
       "      <td>183.7</td>\n",
       "      <td>4</td>\n",
       "      <td>1</td>\n",
       "      <td>1</td>\n",
       "      <td>21.24</td>\n",
       "      <td>...</td>\n",
       "      <td>-2.4036</td>\n",
       "      <td>0.7453</td>\n",
       "      <td>0.1177</td>\n",
       "      <td>0.9414</td>\n",
       "      <td>0.5233</td>\n",
       "      <td>8.3945</td>\n",
       "      <td>8.1199</td>\n",
       "      <td>9.1790</td>\n",
       "      <td>8.6665</td>\n",
       "      <td>255</td>\n",
       "    </tr>\n",
       "    <tr>\n",
       "      <th>3</th>\n",
       "      <td>138</td>\n",
       "      <td>2015-10-26 2:48:45.0</td>\n",
       "      <td>42.34143</td>\n",
       "      <td>-71.080329</td>\n",
       "      <td>0.47</td>\n",
       "      <td>183.7</td>\n",
       "      <td>4</td>\n",
       "      <td>1</td>\n",
       "      <td>1</td>\n",
       "      <td>21.23</td>\n",
       "      <td>...</td>\n",
       "      <td>-2.3473</td>\n",
       "      <td>0.6669</td>\n",
       "      <td>0.2354</td>\n",
       "      <td>1.0199</td>\n",
       "      <td>0.5401</td>\n",
       "      <td>8.5514</td>\n",
       "      <td>8.1591</td>\n",
       "      <td>9.1006</td>\n",
       "      <td>8.6938</td>\n",
       "      <td>254</td>\n",
       "    </tr>\n",
       "    <tr>\n",
       "      <th>4</th>\n",
       "      <td>140</td>\n",
       "      <td>2015-10-26 2:48:45.0</td>\n",
       "      <td>42.34143</td>\n",
       "      <td>-71.080329</td>\n",
       "      <td>0.47</td>\n",
       "      <td>183.7</td>\n",
       "      <td>4</td>\n",
       "      <td>1</td>\n",
       "      <td>1</td>\n",
       "      <td>21.23</td>\n",
       "      <td>...</td>\n",
       "      <td>-2.4079</td>\n",
       "      <td>0.5492</td>\n",
       "      <td>0.0392</td>\n",
       "      <td>0.9414</td>\n",
       "      <td>0.5836</td>\n",
       "      <td>8.6299</td>\n",
       "      <td>8.0022</td>\n",
       "      <td>9.5321</td>\n",
       "      <td>8.6882</td>\n",
       "      <td>255</td>\n",
       "    </tr>\n",
       "  </tbody>\n",
       "</table>\n",
       "<p>5 rows × 29 columns</p>\n",
       "</div>"
      ],
      "text/plain": [
       "    ID     GPS_DATETIMESTAMP   GPS_LAT    GPS_LON  GPS_Speed  GPS_Alt  \\\n",
       "0  132  2015-10-26 2:48:45.0  42.34143 -71.080329       0.47    183.7   \n",
       "1  134  2015-10-26 2:48:45.0  42.34143 -71.080329       0.47    183.7   \n",
       "2  136  2015-10-26 2:48:45.0  42.34143 -71.080329       0.47    183.7   \n",
       "3  138  2015-10-26 2:48:45.0  42.34143 -71.080329       0.47    183.7   \n",
       "4  140  2015-10-26 2:48:45.0  42.34143 -71.080329       0.47    183.7   \n",
       "\n",
       "   GPS_Sats  GPS_Fix  GPS_Quality  AMB_Temp      ...        RDQ_AcXMea  \\\n",
       "0         4        1            1     21.23      ...           -2.4004   \n",
       "1         4        1            1     21.23      ...           -2.3879   \n",
       "2         4        1            1     21.24      ...           -2.4036   \n",
       "3         4        1            1     21.23      ...           -2.3473   \n",
       "4         4        1            1     21.23      ...           -2.4079   \n",
       "\n",
       "   RDQ_AcY  RDQ_AcYMin RDQ_AcYMax  RDQ_AcYMea  RDQ_AcZ  RDQ_AcZMin  \\\n",
       "0   0.3530      0.1569     1.0199      0.5672   9.1006      7.9238   \n",
       "1   0.3138      0.1569     0.8630      0.5544   9.1790      8.2376   \n",
       "2   0.7453      0.1177     0.9414      0.5233   8.3945      8.1199   \n",
       "3   0.6669      0.2354     1.0199      0.5401   8.5514      8.1591   \n",
       "4   0.5492      0.0392     0.9414      0.5836   8.6299      8.0022   \n",
       "\n",
       "   RDQ_AcZMax RDQ_AcZMea  SamplingCount  \n",
       "0      9.2183     8.6780            255  \n",
       "1      9.3359     8.7051            254  \n",
       "2      9.1790     8.6665            255  \n",
       "3      9.1006     8.6938            254  \n",
       "4      9.5321     8.6882            255  \n",
       "\n",
       "[5 rows x 29 columns]"
      ]
     },
     "execution_count": 66,
     "metadata": {},
     "output_type": "execute_result"
    }
   ],
   "source": [
    "# read in dataset containing all points - do we need to roll these up to the unique locations?\n",
    "df = pd.read_csv('nUrve_master.csv')\n",
    "df.head()"
   ]
  },
  {
   "cell_type": "code",
   "execution_count": 67,
   "metadata": {
    "collapsed": false
   },
   "outputs": [
    {
     "data": {
      "text/plain": [
       "1058495"
      ]
     },
     "execution_count": 67,
     "metadata": {},
     "output_type": "execute_result"
    }
   ],
   "source": [
    "len(df)"
   ]
  },
  {
   "cell_type": "code",
   "execution_count": 70,
   "metadata": {
    "collapsed": false
   },
   "outputs": [
    {
     "data": {
      "text/html": [
       "<div>\n",
       "<table border=\"1\" class=\"dataframe\">\n",
       "  <thead>\n",
       "    <tr style=\"text-align: right;\">\n",
       "      <th></th>\n",
       "      <th>AREA_ACRES</th>\n",
       "      <th>LU21_1971</th>\n",
       "      <th>LU21_1985</th>\n",
       "      <th>LU21_1999</th>\n",
       "      <th>LU37_1985</th>\n",
       "      <th>LU37_1999</th>\n",
       "      <th>LU_ID</th>\n",
       "      <th>RELATEID</th>\n",
       "      <th>TILE_NAME</th>\n",
       "      <th>geometry</th>\n",
       "    </tr>\n",
       "  </thead>\n",
       "  <tbody>\n",
       "    <tr>\n",
       "      <th>0</th>\n",
       "      <td>11.7899</td>\n",
       "      <td>1</td>\n",
       "      <td>1</td>\n",
       "      <td>1</td>\n",
       "      <td>1</td>\n",
       "      <td>1</td>\n",
       "      <td>338</td>\n",
       "      <td>19900338</td>\n",
       "      <td>199</td>\n",
       "      <td>POLYGON ((-71.26024364338319 42.25648712959588...</td>\n",
       "    </tr>\n",
       "  </tbody>\n",
       "</table>\n",
       "</div>"
      ],
      "text/plain": [
       "   AREA_ACRES  LU21_1971  LU21_1985  LU21_1999  LU37_1985  LU37_1999  LU_ID  \\\n",
       "0     11.7899          1          1          1          1          1    338   \n",
       "\n",
       "   RELATEID TILE_NAME                                           geometry  \n",
       "0  19900338       199  POLYGON ((-71.26024364338319 42.25648712959588...  "
      ]
     },
     "execution_count": 70,
     "metadata": {},
     "output_type": "execute_result"
    }
   ],
   "source": [
    "# read in land use using a shapefile\n",
    "landuse=gp.read_file('landuse/GISDATA_LANDUSE_POLY.shp')\n",
    "landuse.head(1)"
   ]
  },
  {
   "cell_type": "code",
   "execution_count": 71,
   "metadata": {
    "collapsed": false
   },
   "outputs": [],
   "source": [
    "# import necessary modules for the spatial join\n",
    "import os\n",
    "from shapely.geometry import Point\n",
    "from geopandas import GeoDataFrame, read_file\n",
    "from geopandas.tools import overlay\n",
    "from geopandas.tools import sjoin"
   ]
  },
  {
   "cell_type": "code",
   "execution_count": 73,
   "metadata": {
    "collapsed": false
   },
   "outputs": [
    {
     "data": {
      "text/html": [
       "<div>\n",
       "<table border=\"1\" class=\"dataframe\">\n",
       "  <thead>\n",
       "    <tr style=\"text-align: right;\">\n",
       "      <th></th>\n",
       "      <th>ID</th>\n",
       "      <th>GPS_DATETIMESTAMP</th>\n",
       "      <th>GPS_LAT</th>\n",
       "      <th>GPS_LON</th>\n",
       "      <th>GPS_Speed</th>\n",
       "      <th>GPS_Alt</th>\n",
       "      <th>GPS_Sats</th>\n",
       "      <th>GPS_Fix</th>\n",
       "      <th>GPS_Quality</th>\n",
       "      <th>AMB_Temp</th>\n",
       "      <th>...</th>\n",
       "      <th>RDQ_AcY</th>\n",
       "      <th>RDQ_AcYMin</th>\n",
       "      <th>RDQ_AcYMax</th>\n",
       "      <th>RDQ_AcYMea</th>\n",
       "      <th>RDQ_AcZ</th>\n",
       "      <th>RDQ_AcZMin</th>\n",
       "      <th>RDQ_AcZMax</th>\n",
       "      <th>RDQ_AcZMea</th>\n",
       "      <th>SamplingCount</th>\n",
       "      <th>geometry</th>\n",
       "    </tr>\n",
       "  </thead>\n",
       "  <tbody>\n",
       "    <tr>\n",
       "      <th>0</th>\n",
       "      <td>132</td>\n",
       "      <td>2015-10-26 2:48:45.0</td>\n",
       "      <td>42.34143</td>\n",
       "      <td>-71.080329</td>\n",
       "      <td>0.47</td>\n",
       "      <td>183.7</td>\n",
       "      <td>4</td>\n",
       "      <td>1</td>\n",
       "      <td>1</td>\n",
       "      <td>21.23</td>\n",
       "      <td>...</td>\n",
       "      <td>0.353</td>\n",
       "      <td>0.1569</td>\n",
       "      <td>1.0199</td>\n",
       "      <td>0.5672</td>\n",
       "      <td>9.1006</td>\n",
       "      <td>7.9238</td>\n",
       "      <td>9.2183</td>\n",
       "      <td>8.678</td>\n",
       "      <td>255</td>\n",
       "      <td>POINT (-71.08032900000001 42.34143)</td>\n",
       "    </tr>\n",
       "  </tbody>\n",
       "</table>\n",
       "<p>1 rows × 30 columns</p>\n",
       "</div>"
      ],
      "text/plain": [
       "    ID     GPS_DATETIMESTAMP   GPS_LAT    GPS_LON  GPS_Speed  GPS_Alt  \\\n",
       "0  132  2015-10-26 2:48:45.0  42.34143 -71.080329       0.47    183.7   \n",
       "\n",
       "   GPS_Sats  GPS_Fix  GPS_Quality  AMB_Temp  \\\n",
       "0         4        1            1     21.23   \n",
       "\n",
       "                  ...                   RDQ_AcY  RDQ_AcYMin  RDQ_AcYMax  \\\n",
       "0                 ...                     0.353      0.1569      1.0199   \n",
       "\n",
       "  RDQ_AcYMea  RDQ_AcZ  RDQ_AcZMin  RDQ_AcZMax  RDQ_AcZMea SamplingCount  \\\n",
       "0     0.5672   9.1006      7.9238      9.2183       8.678           255   \n",
       "\n",
       "                              geometry  \n",
       "0  POINT (-71.08032900000001 42.34143)  \n",
       "\n",
       "[1 rows x 30 columns]"
      ]
     },
     "execution_count": 73,
     "metadata": {},
     "output_type": "execute_result"
    }
   ],
   "source": [
    "# combine lat/lon pairs from sensor data into actual points\n",
    "df['geometry'] = df.apply(lambda x: Point(x.GPS_LON, x.GPS_LAT), axis =1)\n",
    "df.head(1)"
   ]
  },
  {
   "cell_type": "code",
   "execution_count": 74,
   "metadata": {
    "collapsed": false
   },
   "outputs": [
    {
     "name": "stdout",
     "output_type": "stream",
     "text": [
      "the crs values match!\n"
     ]
    }
   ],
   "source": [
    "# df = GeoDataFrame(df,crs = {'init': 'epsg:4326'})\n",
    "\n",
    "# def crsMatch(x,y):\n",
    "#     if x == y:\n",
    "#         print 'the crs values match!'\n",
    "#     else:\n",
    "#         \"the crs values don't match!\"\n",
    "\n",
    "# crsMatch(landuse.crs,df.crs)"
   ]
  },
  {
   "cell_type": "code",
   "execution_count": 76,
   "metadata": {
    "collapsed": false
   },
   "outputs": [],
   "source": [
    "# spatial join\n",
    "join = sjoin(df, landuse, how='left', op='within')"
   ]
  },
  {
   "cell_type": "code",
   "execution_count": 78,
   "metadata": {
    "collapsed": false
   },
   "outputs": [
    {
     "data": {
      "text/plain": [
       "1058495"
      ]
     },
     "execution_count": 78,
     "metadata": {},
     "output_type": "execute_result"
    }
   ],
   "source": [
    "len(join)"
   ]
  }
 ],
 "metadata": {
  "kernelspec": {
   "display_name": "Python 2",
   "language": "python",
   "name": "python2"
  },
  "language_info": {
   "codemirror_mode": {
    "name": "ipython",
    "version": 2
   },
   "file_extension": ".py",
   "mimetype": "text/x-python",
   "name": "python",
   "nbconvert_exporter": "python",
   "pygments_lexer": "ipython2",
   "version": "2.7.11"
  }
 },
 "nbformat": 4,
 "nbformat_minor": 0
}
